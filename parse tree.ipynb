{
 "cells": [
  {
   "cell_type": "code",
   "execution_count": 1,
   "id": "4980921b",
   "metadata": {},
   "outputs": [
    {
     "ename": "SyntaxError",
     "evalue": "invalid syntax (2763900513.py, line 2)",
     "output_type": "error",
     "traceback": [
      "\u001b[0;36m  Input \u001b[0;32mIn [1]\u001b[0;36m\u001b[0m\n\u001b[0;31m    grammar=nltk.CFG.from string(\"\"\"\u001b[0m\n\u001b[0m                     ^\u001b[0m\n\u001b[0;31mSyntaxError\u001b[0m\u001b[0;31m:\u001b[0m invalid syntax\n"
     ]
    }
   ],
   "source": [
    "import nltk\n",
    "grammar=nltk.CFG. string(\"\"\"\n",
    "S->NP VP\n",
    "NP->'Jonn'\n",
    "VP->Vi|Vt NP|VP PP\n",
    "Vi->'went'\n",
    "IN->'for'|'to'|'with'\n",
    "DT->'a'|'the'\n",
    "NP->NP PP|DT NN|DT N\n",
    "NN->'walk'|'park'\n",
    "N->'statue'\n",
    "JJ->'golden'\n",
    "N->JJ N\n",
    "PP->IN NP\n",
    "\"\"\")\n",
    "sentence='Jonn went for a walk to park with a golden statue'.split()\n",
    "sentence"
   ]
  },
  {
   "cell_type": "code",
   "execution_count": null,
   "id": "b0c5b8b6",
   "metadata": {},
   "outputs": [],
   "source": []
  }
 ],
 "metadata": {
  "kernelspec": {
   "display_name": "Python 3 (ipykernel)",
   "language": "python",
   "name": "python3"
  },
  "language_info": {
   "codemirror_mode": {
    "name": "ipython",
    "version": 3
   },
   "file_extension": ".py",
   "mimetype": "text/x-python",
   "name": "python",
   "nbconvert_exporter": "python",
   "pygments_lexer": "ipython3",
   "version": "3.9.12"
  }
 },
 "nbformat": 4,
 "nbformat_minor": 5
}
