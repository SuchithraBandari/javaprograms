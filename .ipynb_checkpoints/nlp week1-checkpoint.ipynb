{
 "cells": [
  {
   "cell_type": "code",
   "execution_count": 3,
   "id": "4aa5f4ce",
   "metadata": {},
   "outputs": [],
   "source": [
    "import nltk\n",
    "\n"
   ]
  },
  {
   "cell_type": "code",
   "execution_count": 4,
   "id": "f6ce4182",
   "metadata": {},
   "outputs": [
    {
     "name": "stdout",
     "output_type": "stream",
     "text": [
      "showing info https://raw.githubusercontent.com/nltk/nltk_data/gh-pages/index.xml\n"
     ]
    },
    {
     "data": {
      "text/plain": [
       "True"
      ]
     },
     "execution_count": 4,
     "metadata": {},
     "output_type": "execute_result"
    }
   ],
   "source": [
    "nltk.download()"
   ]
  },
  {
   "cell_type": "code",
   "execution_count": 5,
   "id": "7f6df683",
   "metadata": {},
   "outputs": [
    {
     "name": "stdout",
     "output_type": "stream",
     "text": [
      "*** Introductory Examples for the NLTK Book ***\n",
      "Loading text1, ..., text9 and sent1, ..., sent9\n",
      "Type the name of the text or sentence to view it.\n",
      "Type: 'texts()' or 'sents()' to list the materials.\n",
      "text1: Moby Dick by Herman Melville 1851\n",
      "text2: Sense and Sensibility by Jane Austen 1811\n",
      "text3: The Book of Genesis\n",
      "text4: Inaugural Address Corpus\n",
      "text5: Chat Corpus\n",
      "text6: Monty Python and the Holy Grail\n",
      "text7: Wall Street Journal\n",
      "text8: Personals Corpus\n",
      "text9: The Man Who Was Thursday by G . K . Chesterton 1908\n"
     ]
    }
   ],
   "source": [
    "from nltk.book import*"
   ]
  },
  {
   "cell_type": "code",
   "execution_count": 6,
   "id": "8914a727",
   "metadata": {},
   "outputs": [
    {
     "data": {
      "text/plain": [
       "260819"
      ]
     },
     "execution_count": 6,
     "metadata": {},
     "output_type": "execute_result"
    }
   ],
   "source": [
    "len(text1)"
   ]
  },
  {
   "cell_type": "code",
   "execution_count": 7,
   "id": "b09b3224",
   "metadata": {},
   "outputs": [
    {
     "data": {
      "text/plain": [
       "19317"
      ]
     },
     "execution_count": 7,
     "metadata": {},
     "output_type": "execute_result"
    }
   ],
   "source": [
    "len(set(text1))"
   ]
  },
  {
   "cell_type": "code",
   "execution_count": 8,
   "id": "8d726e68",
   "metadata": {},
   "outputs": [
    {
     "data": {
      "text/plain": [
       "13721"
      ]
     },
     "execution_count": 8,
     "metadata": {},
     "output_type": "execute_result"
    }
   ],
   "source": [
    "text1.count('the')"
   ]
  },
  {
   "cell_type": "code",
   "execution_count": 9,
   "id": "0d9c470b",
   "metadata": {},
   "outputs": [
    {
     "data": {
      "text/plain": [
       "[(',', 18713),\n",
       " ('the', 13721),\n",
       " ('.', 6862),\n",
       " ('of', 6536),\n",
       " ('and', 6024),\n",
       " ('a', 4569),\n",
       " ('to', 4542),\n",
       " (';', 4072),\n",
       " ('in', 3916),\n",
       " ('that', 2982)]"
      ]
     },
     "execution_count": 9,
     "metadata": {},
     "output_type": "execute_result"
    }
   ],
   "source": [
    "from nltk import FreqDist\n",
    "fd=FreqDist(text1)\n",
    "fd.most_common(10)"
   ]
  },
  {
   "cell_type": "code",
   "execution_count": 10,
   "id": "c82c1897",
   "metadata": {},
   "outputs": [
    {
     "data": {
      "text/plain": [
       "[(',', 18713),\n",
       " ('the', 13721),\n",
       " ('.', 6862),\n",
       " ('of', 6536),\n",
       " ('and', 6024),\n",
       " ('a', 4569),\n",
       " ('to', 4542),\n",
       " (';', 4072),\n",
       " ('in', 3916),\n",
       " ('that', 2982),\n",
       " (\"'\", 2684),\n",
       " ('-', 2552),\n",
       " ('his', 2459),\n",
       " ('it', 2209),\n",
       " ('I', 2124),\n",
       " ('s', 1739),\n",
       " ('is', 1695),\n",
       " ('he', 1661),\n",
       " ('with', 1659),\n",
       " ('was', 1632)]"
      ]
     },
     "execution_count": 10,
     "metadata": {},
     "output_type": "execute_result"
    }
   ],
   "source": [
    "fd.most_common(20)"
   ]
  },
  {
   "cell_type": "code",
   "execution_count": 11,
   "id": "762aef90",
   "metadata": {},
   "outputs": [
    {
     "name": "stdout",
     "output_type": "stream",
     "text": [
      "    ,   the     .    of   and     a    to     ;    in  that     '     -   his    it     I     s    is    he  with   was \n",
      "18713 13721  6862  6536  6024  4569  4542  4072  3916  2982  2684  2552  2459  2209  2124  1739  1695  1661  1659  1632 \n"
     ]
    }
   ],
   "source": [
    "fd.tabulate(20)"
   ]
  },
  {
   "cell_type": "code",
   "execution_count": 12,
   "id": "516ef80c",
   "metadata": {},
   "outputs": [
    {
     "data": {
      "text/plain": [
       "0.052607363727335814"
      ]
     },
     "execution_count": 12,
     "metadata": {},
     "output_type": "execute_result"
    }
   ],
   "source": [
    "fd.freq('the')"
   ]
  },
  {
   "cell_type": "code",
   "execution_count": 13,
   "id": "c714b9b1",
   "metadata": {},
   "outputs": [
    {
     "data": {
      "text/plain": [
       "13721"
      ]
     },
     "execution_count": 13,
     "metadata": {},
     "output_type": "execute_result"
    }
   ],
   "source": [
    "fd['the']"
   ]
  },
  {
   "cell_type": "code",
   "execution_count": 14,
   "id": "81b12029",
   "metadata": {},
   "outputs": [
    {
     "data": {
      "text/plain": [
       "str"
      ]
     },
     "execution_count": 14,
     "metadata": {},
     "output_type": "execute_result"
    }
   ],
   "source": [
    "input_text=\"Natural language processing (NLP) refers to the branch of computer science—and more specifically, the branch of artificial intelligence or AI—concerned with giving computers the ability to understand text and spoken words in much the same way human beings can.NLP combines computational linguistics—rule-based modeling of human language—with statistical, machine learning, and deep learning models. Together, these technologies enable computers to process human language in the form of text or voice data and to ‘understand’ its full meaning, complete with the speaker or writer’s intent and sentiment.NLP drives computer programs that translate text from one language to another, respond to spoken commands, and summarize large volumes of text rapidly—even in real time. There’s a good chance you’ve interacted with NLP in the form of voice-operated GPS systems, digital assistants, speech-to-text dictation software, customer service chatbots, and other consumer conveniences. But NLP also plays a growing role in enterprise solutions that help streamline business operations, increase employee productivity, and simplify mission-critical business processes.\"\n",
    "type(input_text)"
   ]
  },
  {
   "cell_type": "code",
   "execution_count": 15,
   "id": "068e0ac4",
   "metadata": {},
   "outputs": [
    {
     "data": {
      "text/plain": [
       "nltk.text.Text"
      ]
     },
     "execution_count": 15,
     "metadata": {},
     "output_type": "execute_result"
    }
   ],
   "source": [
    "new_input=nltk.Text(input_text.split())\n",
    "type(new_input)"
   ]
  },
  {
   "cell_type": "code",
   "execution_count": 16,
   "id": "474b359d",
   "metadata": {},
   "outputs": [
    {
     "data": {
      "text/plain": [
       "<Text: Natural language processing (NLP) refers to the branch...>"
      ]
     },
     "execution_count": 16,
     "metadata": {},
     "output_type": "execute_result"
    }
   ],
   "source": [
    "new_input"
   ]
  },
  {
   "cell_type": "code",
   "execution_count": 20,
   "id": "7d964284",
   "metadata": {},
   "outputs": [
    {
     "data": {
      "text/plain": [
       "[('the', 7),\n",
       " ('and', 7),\n",
       " ('to', 6),\n",
       " ('of', 6),\n",
       " ('in', 5),\n",
       " ('text', 4),\n",
       " ('language', 3),\n",
       " ('or', 3),\n",
       " ('with', 3),\n",
       " ('human', 3)]"
      ]
     },
     "execution_count": 20,
     "metadata": {},
     "output_type": "execute_result"
    }
   ],
   "source": [
    "from nltk import FreqDist\n",
    "fd=FreqDist(new_input)\n",
    "fd.most_common(10)\n"
   ]
  },
  {
   "cell_type": "code",
   "execution_count": 21,
   "id": "0e41262b",
   "metadata": {},
   "outputs": [
    {
     "data": {
      "image/png": "[encoded data removed]",
      "text/plain": [
       "<Figure size 432x288 with 1 Axes>"
      ]
     },
     "metadata": {
      "needs_background": "light"
     },
     "output_type": "display_data"
    },
    {
     "data": {
      "text/plain": [
       "<AxesSubplot:xlabel='Samples', ylabel='Counts'>"
      ]
     },
     "execution_count": 21,
     "metadata": {},
     "output_type": "execute_result"
    }
   ],
   "source": [
    "fd.plot(10)"
   ]
  },
  {
   "cell_type": "code",
   "execution_count": 18,
   "id": "bca41f0a",
   "metadata": {},
   "outputs": [
    {
     "name": "stdout",
     "output_type": "stream",
     "text": [
      "     the      and       to       of       in     text language       or     with    human \n",
      "       7        7        6        6        5        4        3        3        3        3 \n"
     ]
    }
   ],
   "source": [
    "fd.tabulate(10)\n"
   ]
  },
  {
   "cell_type": "code",
   "execution_count": 19,
   "id": "1e206408",
   "metadata": {},
   "outputs": [
    {
     "data": {
      "image/png": "[encoded data removed]",
      "text/plain": [
       "<Figure size 432x288 with 1 Axes>"
      ]
     },
     "metadata": {
      "needs_background": "light"
     },
     "output_type": "display_data"
    },
    {
     "data": {
      "text/plain": [
       "<AxesSubplot:xlabel='Samples', ylabel='Counts'>"
      ]
     },
     "execution_count": 19,
     "metadata": {},
     "output_type": "execute_result"
    }
   ],
   "source": [
    "fd.plot(10)"
   ]
  },
  {
   "cell_type": "code",
   "execution_count": 22,
   "id": "6d34c823",
   "metadata": {},
   "outputs": [
    {
     "data": {
      "text/plain": [
       "'natural language processing (nlp) refers to the branch of computer science—and more specifically, the branch of artificial intelligence or ai—concerned with giving computers the ability to understand text and spoken words in much the same way human beings can.nlp combines computational linguistics—rule-based modeling of human language—with statistical, machine learning, and deep learning models. together, these technologies enable computers to process human language in the form of text or voice data and to ‘understand’ its full meaning, complete with the speaker or writer’s intent and sentiment.nlp drives computer programs that translate text from one language to another, respond to spoken commands, and summarize large volumes of text rapidly—even in real time. there’s a good chance you’ve interacted with nlp in the form of voice-operated gps systems, digital assistants, speech-to-text dictation software, customer service chatbots, and other consumer conveniences. but nlp also plays a growing role in enterprise solutions that help streamline business operations, increase employee productivity, and simplify mission-critical business processes.'"
      ]
     },
     "execution_count": 22,
     "metadata": {},
     "output_type": "execute_result"
    }
   ],
   "source": [
    "input_text.lower()"
   ]
  },
  {
   "cell_type": "code",
   "execution_count": 25,
   "id": "ae972534",
   "metadata": {},
   "outputs": [
    {
     "data": {
      "text/plain": [
       "['Natural',\n",
       " 'language',\n",
       " 'processing',\n",
       " '(',\n",
       " 'NLP',\n",
       " ')',\n",
       " 'refers',\n",
       " 'to',\n",
       " 'the',\n",
       " 'branch',\n",
       " 'of',\n",
       " 'computer',\n",
       " 'science—and',\n",
       " 'more',\n",
       " 'specifically',\n",
       " ',',\n",
       " 'the',\n",
       " 'branch',\n",
       " 'of',\n",
       " 'artificial',\n",
       " 'intelligence',\n",
       " 'or',\n",
       " 'AI—concerned',\n",
       " 'with',\n",
       " 'giving',\n",
       " 'computers',\n",
       " 'the',\n",
       " 'ability',\n",
       " 'to',\n",
       " 'understand',\n",
       " 'text',\n",
       " 'and',\n",
       " 'spoken',\n",
       " 'words',\n",
       " 'in',\n",
       " 'much',\n",
       " 'the',\n",
       " 'same',\n",
       " 'way',\n",
       " 'human',\n",
       " 'beings',\n",
       " 'can.NLP',\n",
       " 'combines',\n",
       " 'computational',\n",
       " 'linguistics—rule-based',\n",
       " 'modeling',\n",
       " 'of',\n",
       " 'human',\n",
       " 'language—with',\n",
       " 'statistical',\n",
       " ',',\n",
       " 'machine',\n",
       " 'learning',\n",
       " ',',\n",
       " 'and',\n",
       " 'deep',\n",
       " 'learning',\n",
       " 'models',\n",
       " '.',\n",
       " 'Together',\n",
       " ',',\n",
       " 'these',\n",
       " 'technologies',\n",
       " 'enable',\n",
       " 'computers',\n",
       " 'to',\n",
       " 'process',\n",
       " 'human',\n",
       " 'language',\n",
       " 'in',\n",
       " 'the',\n",
       " 'form',\n",
       " 'of',\n",
       " 'text',\n",
       " 'or',\n",
       " 'voice',\n",
       " 'data',\n",
       " 'and',\n",
       " 'to',\n",
       " '‘',\n",
       " 'understand',\n",
       " '’',\n",
       " 'its',\n",
       " 'full',\n",
       " 'meaning',\n",
       " ',',\n",
       " 'complete',\n",
       " 'with',\n",
       " 'the',\n",
       " 'speaker',\n",
       " 'or',\n",
       " 'writer',\n",
       " '’',\n",
       " 's',\n",
       " 'intent',\n",
       " 'and',\n",
       " 'sentiment.NLP',\n",
       " 'drives',\n",
       " 'computer',\n",
       " 'programs',\n",
       " 'that',\n",
       " 'translate',\n",
       " 'text',\n",
       " 'from',\n",
       " 'one',\n",
       " 'language',\n",
       " 'to',\n",
       " 'another',\n",
       " ',',\n",
       " 'respond',\n",
       " 'to',\n",
       " 'spoken',\n",
       " 'commands',\n",
       " ',',\n",
       " 'and',\n",
       " 'summarize',\n",
       " 'large',\n",
       " 'volumes',\n",
       " 'of',\n",
       " 'text',\n",
       " 'rapidly—even',\n",
       " 'in',\n",
       " 'real',\n",
       " 'time',\n",
       " '.',\n",
       " 'There',\n",
       " '’',\n",
       " 's',\n",
       " 'a',\n",
       " 'good',\n",
       " 'chance',\n",
       " 'you',\n",
       " '’',\n",
       " 've',\n",
       " 'interacted',\n",
       " 'with',\n",
       " 'NLP',\n",
       " 'in',\n",
       " 'the',\n",
       " 'form',\n",
       " 'of',\n",
       " 'voice-operated',\n",
       " 'GPS',\n",
       " 'systems',\n",
       " ',',\n",
       " 'digital',\n",
       " 'assistants',\n",
       " ',',\n",
       " 'speech-to-text',\n",
       " 'dictation',\n",
       " 'software',\n",
       " ',',\n",
       " 'customer',\n",
       " 'service',\n",
       " 'chatbots',\n",
       " ',',\n",
       " 'and',\n",
       " 'other',\n",
       " 'consumer',\n",
       " 'conveniences',\n",
       " '.',\n",
       " 'But',\n",
       " 'NLP',\n",
       " 'also',\n",
       " 'plays',\n",
       " 'a',\n",
       " 'growing',\n",
       " 'role',\n",
       " 'in',\n",
       " 'enterprise',\n",
       " 'solutions',\n",
       " 'that',\n",
       " 'help',\n",
       " 'streamline',\n",
       " 'business',\n",
       " 'operations',\n",
       " ',',\n",
       " 'increase',\n",
       " 'employee',\n",
       " 'productivity',\n",
       " ',',\n",
       " 'and',\n",
       " 'simplify',\n",
       " 'mission-critical',\n",
       " 'business',\n",
       " 'processes',\n",
       " '.']"
      ]
     },
     "execution_count": 25,
     "metadata": {},
     "output_type": "execute_result"
    }
   ],
   "source": [
    "from nltk.tokenize import word_tokenize\n",
    "tokens=word_tokenize(input_text)\n",
    "tokens"
   ]
  },
  {
   "cell_type": "code",
   "execution_count": 26,
   "id": "3424f00b",
   "metadata": {},
   "outputs": [
    {
     "data": {
      "text/plain": [
       "['Natural language processing (NLP) refers to the branch of computer science—and more specifically, the branch of artificial intelligence or AI—concerned with giving computers the ability to understand text and spoken words in much the same way human beings can.NLP combines computational linguistics—rule-based modeling of human language—with statistical, machine learning, and deep learning models.',\n",
       " 'Together, these technologies enable computers to process human language in the form of text or voice data and to ‘understand’ its full meaning, complete with the speaker or writer’s intent and sentiment.NLP drives computer programs that translate text from one language to another, respond to spoken commands, and summarize large volumes of text rapidly—even in real time.',\n",
       " 'There’s a good chance you’ve interacted with NLP in the form of voice-operated GPS systems, digital assistants, speech-to-text dictation software, customer service chatbots, and other consumer conveniences.',\n",
       " 'But NLP also plays a growing role in enterprise solutions that help streamline business operations, increase employee productivity, and simplify mission-critical business processes.']"
      ]
     },
     "execution_count": 26,
     "metadata": {},
     "output_type": "execute_result"
    }
   ],
   "source": [
    "from nltk.tokenize import sent_tokenize\n",
    "tokens1=sent_tokenize(input_text)\n",
    "tokens1"
   ]
  },
  {
   "cell_type": "code",
   "execution_count": 28,
   "id": "23462ebe",
   "metadata": {},
   "outputs": [
    {
     "data": {
      "text/plain": [
       "['arabic',\n",
       " 'azerbaijani',\n",
       " 'basque',\n",
       " 'bengali',\n",
       " 'catalan',\n",
       " 'chinese',\n",
       " 'danish',\n",
       " 'dutch',\n",
       " 'english',\n",
       " 'finnish',\n",
       " 'french',\n",
       " 'german',\n",
       " 'greek',\n",
       " 'hebrew',\n",
       " 'hinglish',\n",
       " 'hungarian',\n",
       " 'indonesian',\n",
       " 'italian',\n",
       " 'kazakh',\n",
       " 'nepali',\n",
       " 'norwegian',\n",
       " 'portuguese',\n",
       " 'romanian',\n",
       " 'russian',\n",
       " 'slovene',\n",
       " 'spanish',\n",
       " 'swedish',\n",
       " 'tajik',\n",
       " 'turkish']"
      ]
     },
     "execution_count": 28,
     "metadata": {},
     "output_type": "execute_result"
    }
   ],
   "source": [
    "from nltk.corpus import stopwords as spw\n",
    "spw.fileids()"
   ]
  },
  {
   "cell_type": "code",
   "execution_count": 30,
   "id": "7f46497c",
   "metadata": {},
   "outputs": [
    {
     "data": {
      "text/plain": [
       "['i',\n",
       " 'me',\n",
       " 'my',\n",
       " 'myself',\n",
       " 'we',\n",
       " 'our',\n",
       " 'ours',\n",
       " 'ourselves',\n",
       " 'you',\n",
       " \"you're\",\n",
       " \"you've\",\n",
       " \"you'll\",\n",
       " \"you'd\",\n",
       " 'your',\n",
       " 'yours',\n",
       " 'yourself',\n",
       " 'yourselves',\n",
       " 'he',\n",
       " 'him',\n",
       " 'his',\n",
       " 'himself',\n",
       " 'she',\n",
       " \"she's\",\n",
       " 'her',\n",
       " 'hers',\n",
       " 'herself',\n",
       " 'it',\n",
       " \"it's\",\n",
       " 'its',\n",
       " 'itself',\n",
       " 'they',\n",
       " 'them',\n",
       " 'their',\n",
       " 'theirs',\n",
       " 'themselves',\n",
       " 'what',\n",
       " 'which',\n",
       " 'who',\n",
       " 'whom',\n",
       " 'this',\n",
       " 'that',\n",
       " \"that'll\",\n",
       " 'these',\n",
       " 'those',\n",
       " 'am',\n",
       " 'is',\n",
       " 'are',\n",
       " 'was',\n",
       " 'were',\n",
       " 'be',\n",
       " 'been',\n",
       " 'being',\n",
       " 'have',\n",
       " 'has',\n",
       " 'had',\n",
       " 'having',\n",
       " 'do',\n",
       " 'does',\n",
       " 'did',\n",
       " 'doing',\n",
       " 'a',\n",
       " 'an',\n",
       " 'the',\n",
       " 'and',\n",
       " 'but',\n",
       " 'if',\n",
       " 'or',\n",
       " 'because',\n",
       " 'as',\n",
       " 'until',\n",
       " 'while',\n",
       " 'of',\n",
       " 'at',\n",
       " 'by',\n",
       " 'for',\n",
       " 'with',\n",
       " 'about',\n",
       " 'against',\n",
       " 'between',\n",
       " 'into',\n",
       " 'through',\n",
       " 'during',\n",
       " 'before',\n",
       " 'after',\n",
       " 'above',\n",
       " 'below',\n",
       " 'to',\n",
       " 'from',\n",
       " 'up',\n",
       " 'down',\n",
       " 'in',\n",
       " 'out',\n",
       " 'on',\n",
       " 'off',\n",
       " 'over',\n",
       " 'under',\n",
       " 'again',\n",
       " 'further',\n",
       " 'then',\n",
       " 'once',\n",
       " 'here',\n",
       " 'there',\n",
       " 'when',\n",
       " 'where',\n",
       " 'why',\n",
       " 'how',\n",
       " 'all',\n",
       " 'any',\n",
       " 'both',\n",
       " 'each',\n",
       " 'few',\n",
       " 'more',\n",
       " 'most',\n",
       " 'other',\n",
       " 'some',\n",
       " 'such',\n",
       " 'no',\n",
       " 'nor',\n",
       " 'not',\n",
       " 'only',\n",
       " 'own',\n",
       " 'same',\n",
       " 'so',\n",
       " 'than',\n",
       " 'too',\n",
       " 'very',\n",
       " 's',\n",
       " 't',\n",
       " 'can',\n",
       " 'will',\n",
       " 'just',\n",
       " 'don',\n",
       " \"don't\",\n",
       " 'should',\n",
       " \"should've\",\n",
       " 'now',\n",
       " 'd',\n",
       " 'll',\n",
       " 'm',\n",
       " 'o',\n",
       " 're',\n",
       " 've',\n",
       " 'y',\n",
       " 'ain',\n",
       " 'aren',\n",
       " \"aren't\",\n",
       " 'couldn',\n",
       " \"couldn't\",\n",
       " 'didn',\n",
       " \"didn't\",\n",
       " 'doesn',\n",
       " \"doesn't\",\n",
       " 'hadn',\n",
       " \"hadn't\",\n",
       " 'hasn',\n",
       " \"hasn't\",\n",
       " 'haven',\n",
       " \"haven't\",\n",
       " 'isn',\n",
       " \"isn't\",\n",
       " 'ma',\n",
       " 'mightn',\n",
       " \"mightn't\",\n",
       " 'mustn',\n",
       " \"mustn't\",\n",
       " 'needn',\n",
       " \"needn't\",\n",
       " 'shan',\n",
       " \"shan't\",\n",
       " 'shouldn',\n",
       " \"shouldn't\",\n",
       " 'wasn',\n",
       " \"wasn't\",\n",
       " 'weren',\n",
       " \"weren't\",\n",
       " 'won',\n",
       " \"won't\",\n",
       " 'wouldn',\n",
       " \"wouldn't\"]"
      ]
     },
     "execution_count": 30,
     "metadata": {},
     "output_type": "execute_result"
    }
   ],
   "source": [
    "spw.words(\"english\")"
   ]
  },
  {
   "cell_type": "code",
   "execution_count": 31,
   "id": "b5d79d09",
   "metadata": {},
   "outputs": [
    {
     "data": {
      "text/plain": [
       "['छ',\n",
       " 'र',\n",
       " 'पनि',\n",
       " 'छन्',\n",
       " 'लागि',\n",
       " 'भएको',\n",
       " 'गरेको',\n",
       " 'भने',\n",
       " 'गर्न',\n",
       " 'गर्ने',\n",
       " 'हो',\n",
       " 'तथा',\n",
       " 'यो',\n",
       " 'रहेको',\n",
       " 'उनले',\n",
       " 'थियो',\n",
       " 'हुने',\n",
       " 'गरेका',\n",
       " 'थिए',\n",
       " 'गर्दै',\n",
       " 'तर',\n",
       " 'नै',\n",
       " 'को',\n",
       " 'मा',\n",
       " 'हुन्',\n",
       " 'भन्ने',\n",
       " 'हुन',\n",
       " 'गरी',\n",
       " 'त',\n",
       " 'हुन्छ',\n",
       " 'अब',\n",
       " 'के',\n",
       " 'रहेका',\n",
       " 'गरेर',\n",
       " 'छैन',\n",
       " 'दिए',\n",
       " 'भए',\n",
       " 'यस',\n",
       " 'ले',\n",
       " 'गर्नु',\n",
       " 'औं',\n",
       " 'सो',\n",
       " 'त्यो',\n",
       " 'कि',\n",
       " 'जुन',\n",
       " 'यी',\n",
       " 'का',\n",
       " 'गरि',\n",
       " 'ती',\n",
       " 'न',\n",
       " 'छु',\n",
       " 'छौं',\n",
       " 'लाई',\n",
       " 'नि',\n",
       " 'उप',\n",
       " 'अक्सर',\n",
       " 'आदि',\n",
       " 'कसरी',\n",
       " 'क्रमशः',\n",
       " 'चाले',\n",
       " 'अगाडी',\n",
       " 'अझै',\n",
       " 'अनुसार',\n",
       " 'अन्तर्गत',\n",
       " 'अन्य',\n",
       " 'अन्यत्र',\n",
       " 'अन्यथा',\n",
       " 'अरु',\n",
       " 'अरुलाई',\n",
       " 'अर्को',\n",
       " 'अर्थात',\n",
       " 'अर्थात्',\n",
       " 'अलग',\n",
       " 'आए',\n",
       " 'आजको',\n",
       " 'ओठ',\n",
       " 'आत्म',\n",
       " 'आफू',\n",
       " 'आफूलाई',\n",
       " 'आफ्नै',\n",
       " 'आफ्नो',\n",
       " 'आयो',\n",
       " 'उदाहरण',\n",
       " 'उनको',\n",
       " 'उहालाई',\n",
       " 'एउटै',\n",
       " 'एक',\n",
       " 'एकदम',\n",
       " 'कतै',\n",
       " 'कम से कम',\n",
       " 'कसै',\n",
       " 'कसैले',\n",
       " 'कहाँबाट',\n",
       " 'कहिलेकाहीं',\n",
       " 'का',\n",
       " 'किन',\n",
       " 'किनभने',\n",
       " 'कुनै',\n",
       " 'कुरा',\n",
       " 'कृपया',\n",
       " 'केही',\n",
       " 'कोही',\n",
       " 'गए',\n",
       " 'गरौं',\n",
       " 'गर्छ',\n",
       " 'गर्छु',\n",
       " 'गर्नुपर्छ',\n",
       " 'गयौ',\n",
       " 'गैर',\n",
       " 'चार',\n",
       " 'चाहनुहुन्छ',\n",
       " 'चाहन्छु',\n",
       " 'चाहिए',\n",
       " 'छू',\n",
       " 'जताततै',\n",
       " 'जब',\n",
       " 'जबकि',\n",
       " 'जसको',\n",
       " 'जसबाट',\n",
       " 'जसमा',\n",
       " 'जसलाई',\n",
       " 'जसले',\n",
       " 'जस्तै',\n",
       " 'जस्तो',\n",
       " 'जस्तोसुकै',\n",
       " 'जहाँ',\n",
       " 'जान',\n",
       " 'जाहिर',\n",
       " 'जे',\n",
       " 'जो',\n",
       " 'ठीक',\n",
       " 'तत्काल',\n",
       " 'तदनुसार',\n",
       " 'तपाईको',\n",
       " 'तपाई',\n",
       " 'पर्याप्त',\n",
       " 'पहिले',\n",
       " 'पहिलो',\n",
       " 'पहिल्यै',\n",
       " 'पाँच',\n",
       " 'पाँचौं',\n",
       " 'तल',\n",
       " 'तापनी',\n",
       " 'तिनी',\n",
       " 'तिनीहरू',\n",
       " 'तिनीहरुको',\n",
       " 'तिनिहरुलाई',\n",
       " 'तिमी',\n",
       " 'तिर',\n",
       " 'तीन',\n",
       " 'तुरुन्तै',\n",
       " 'तेस्रो',\n",
       " 'तेस्कारण',\n",
       " 'पूर्व',\n",
       " 'प्रति',\n",
       " 'प्रतेक',\n",
       " 'प्लस',\n",
       " 'फेरी',\n",
       " 'बने',\n",
       " 'त्सपछि',\n",
       " 'त्सैले',\n",
       " 'त्यहाँ',\n",
       " 'थिएन',\n",
       " 'दिनुभएको',\n",
       " 'दिनुहुन्छ',\n",
       " 'दुई',\n",
       " 'देखि',\n",
       " 'बरु',\n",
       " 'बारे',\n",
       " 'बाहिर',\n",
       " 'देखिन्छ',\n",
       " 'देखियो',\n",
       " 'देखे',\n",
       " 'देखेको',\n",
       " 'देखेर',\n",
       " 'दोस्रो',\n",
       " 'धेरै',\n",
       " 'नजिकै',\n",
       " 'नत्र',\n",
       " 'नयाँ',\n",
       " 'निम्ति',\n",
       " 'बाहेक',\n",
       " 'बीच',\n",
       " 'बीचमा',\n",
       " 'भन',\n",
       " 'निम्न',\n",
       " 'निम्नानुसार',\n",
       " 'निर्दिष्ट',\n",
       " 'नौ',\n",
       " 'पक्का',\n",
       " 'पक्कै',\n",
       " 'पछि',\n",
       " 'पछिल्लो',\n",
       " 'पटक',\n",
       " 'पर्छ',\n",
       " 'पर्थ्यो',\n",
       " 'भन्छन्',\n",
       " 'भन्',\n",
       " 'भन्छु',\n",
       " 'भन्दा',\n",
       " 'भन्नुभयो',\n",
       " 'भर',\n",
       " 'भित्र',\n",
       " 'भित्री',\n",
       " 'म',\n",
       " 'मलाई',\n",
       " 'मात्र',\n",
       " 'माथि',\n",
       " 'मुख्य',\n",
       " 'मेरो',\n",
       " 'यति',\n",
       " 'यथोचित',\n",
       " 'यदि',\n",
       " 'यद्यपि',\n",
       " 'यसको',\n",
       " 'यसपछि',\n",
       " 'यसबाहेक',\n",
       " 'यसरी',\n",
       " 'यसो',\n",
       " 'यस्तो',\n",
       " 'यहाँ',\n",
       " 'यहाँसम्म',\n",
       " 'या',\n",
       " 'रही',\n",
       " 'राखे',\n",
       " 'राख्छ',\n",
       " 'राम्रो',\n",
       " 'रूप',\n",
       " 'लगभग',\n",
       " 'वरीपरी',\n",
       " 'वास्तवमा',\n",
       " 'बिरुद्ध',\n",
       " 'बिशेष',\n",
       " 'सायद',\n",
       " 'शायद',\n",
       " 'संग',\n",
       " 'संगै',\n",
       " 'सक्छ',\n",
       " 'सट्टा',\n",
       " 'सधै',\n",
       " 'सबै',\n",
       " 'सबैलाई',\n",
       " 'समय',\n",
       " 'सम्भव',\n",
       " 'सम्म',\n",
       " 'सही',\n",
       " 'साँच्चै',\n",
       " 'सात',\n",
       " 'साथ',\n",
       " 'साथै',\n",
       " 'सारा',\n",
       " 'सोही',\n",
       " 'स्पष्ट',\n",
       " 'हरे',\n",
       " 'हरेक']"
      ]
     },
     "execution_count": 31,
     "metadata": {},
     "output_type": "execute_result"
    }
   ],
   "source": [
    "spw.words(\"nepali\")"
   ]
  },
  {
   "cell_type": "code",
   "execution_count": 32,
   "id": "529cd703",
   "metadata": {},
   "outputs": [
    {
     "name": "stdout",
     "output_type": "stream",
     "text": [
      "raw -> text... ['natural', 'language', 'processing', '(', 'nlp', ')', 'refers', 'to', 'the', 'branch', 'of', 'computer', 'science—and', 'more', 'specifically', ',', 'the', 'branch', 'of', 'artificial', 'intelligence', 'or', 'ai—concerned', 'with', 'giving', 'computers', 'the', 'ability', 'to', 'understand', 'text', 'and', 'spoken', 'words', 'in', 'much', 'the', 'same', 'way', 'human', 'beings', 'can.nlp', 'combines', 'computational', 'linguistics—rule-based', 'modeling', 'of', 'human', 'language—with', 'statistical', ',', 'machine', 'learning', ',', 'and', 'deep', 'learning', 'models', '.', 'together', ',', 'these', 'technologies', 'enable', 'computers', 'to', 'process', 'human', 'language', 'in', 'the', 'form', 'of', 'text', 'or', 'voice', 'data', 'and', 'to', '‘', 'understand', '’', 'its', 'full', 'meaning', ',', 'complete', 'with', 'the', 'speaker', 'or', 'writer', '’', 's', 'intent', 'and', 'sentiment.nlp', 'drives', 'computer', 'programs', 'that', 'translate', 'text', 'from', 'one', 'language', 'to', 'another', ',', 'respond', 'to', 'spoken', 'commands', ',', 'and', 'summarize', 'large', 'volumes', 'of', 'text', 'rapidly—even', 'in', 'real', 'time', '.', 'there', '’', 's', 'a', 'good', 'chance', 'you', '’', 've', 'interacted', 'with', 'nlp', 'in', 'the', 'form', 'of', 'voice-operated', 'gps', 'systems', ',', 'digital', 'assistants', ',', 'speech-to-text', 'dictation', 'software', ',', 'customer', 'service', 'chatbots', ',', 'and', 'other', 'consumer', 'conveniences', '.', 'but', 'nlp', 'also', 'plays', 'a', 'growing', 'role', 'in', 'enterprise', 'solutions', 'that', 'help', 'streamline', 'business', 'operations', ',', 'increase', 'employee', 'productivity', ',', 'and', 'simplify', 'mission-critical', 'business', 'processes', '.']\n"
     ]
    }
   ],
   "source": [
    "from nltk.tokenize import word_tokenize\n",
    "input_text=input_text.lower()\n",
    "tokens=word_tokenize(input_text)\n",
    "print(\"raw -> text...\",tokens)"
   ]
  },
  {
   "cell_type": "code",
   "execution_count": 33,
   "id": "624c620f",
   "metadata": {},
   "outputs": [
    {
     "name": "stdout",
     "output_type": "stream",
     "text": [
      "cleaned text: ['natural', 'language', 'processing', '(', 'nlp', ')', 'refers', 'branch', 'computer', 'science—and', 'specifically', ',', 'branch', 'artificial', 'intelligence', 'ai—concerned', 'giving', 'computers', 'ability', 'understand', 'text', 'spoken', 'words', 'much', 'way', 'human', 'beings', 'can.nlp', 'combines', 'computational', 'linguistics—rule-based', 'modeling', 'human', 'language—with', 'statistical', ',', 'machine', 'learning', ',', 'deep', 'learning', 'models', '.', 'together', ',', 'technologies', 'enable', 'computers', 'process', 'human', 'language', 'form', 'text', 'voice', 'data', '‘', 'understand', '’', 'full', 'meaning', ',', 'complete', 'speaker', 'writer', '’', 'intent', 'sentiment.nlp', 'drives', 'computer', 'programs', 'translate', 'text', 'one', 'language', 'another', ',', 'respond', 'spoken', 'commands', ',', 'summarize', 'large', 'volumes', 'text', 'rapidly—even', 'real', 'time', '.', '’', 'good', 'chance', '’', 'interacted', 'nlp', 'form', 'voice-operated', 'gps', 'systems', ',', 'digital', 'assistants', ',', 'speech-to-text', 'dictation', 'software', ',', 'customer', 'service', 'chatbots', ',', 'consumer', 'conveniences', '.', 'nlp', 'also', 'plays', 'growing', 'role', 'enterprise', 'solutions', 'help', 'streamline', 'business', 'operations', ',', 'increase', 'employee', 'productivity', ',', 'simplify', 'mission-critical', 'business', 'processes', '.']\n"
     ]
    }
   ],
   "source": [
    "spw_words=spw.words(\"english\")\n",
    "filt_text=[w for w in tokens if w not in spw_words]\n",
    "print(\"cleaned text:\",filt_text)\n"
   ]
  },
  {
   "cell_type": "code",
   "execution_count": null,
   "id": "07912dbf",
   "metadata": {},
   "outputs": [],
   "source": [
    "ta"
   ]
  }
 ],
 "metadata": {
  "kernelspec": {
   "display_name": "Python 3 (ipykernel)",
   "language": "python",
   "name": "python3"
  },
  "language_info": {
   "codemirror_mode": {
    "name": "ipython",
    "version": 3
   },
   "file_extension": ".py",
   "mimetype": "text/x-python",
   "name": "python",
   "nbconvert_exporter": "python",
   "pygments_lexer": "ipython3",
   "version": "3.9.12"
  }
 },
 "nbformat": 4,
 "nbformat_minor": 5
}
