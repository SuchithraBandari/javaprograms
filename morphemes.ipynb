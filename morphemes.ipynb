{
 "cells": [
  {
   "cell_type": "code",
   "execution_count": 1,
   "id": "be7a8fd9",
   "metadata": {},
   "outputs": [],
   "source": [
    "import nltk\n",
    "from nltk.stem import WordNetLemmatizer\n",
    "from nltk.tokenize import word_tokenize\n"
   ]
  },
  {
   "cell_type": "code",
   "execution_count": 5,
   "id": "d70f09bc",
   "metadata": {},
   "outputs": [
    {
     "name": "stdout",
     "output_type": "stream",
     "text": [
      "None\n"
     ]
    }
   ],
   "source": [
    "text=\"the quick brown foxes jumped over the lazy dogs.\"\n",
    "def perform_morphology(text):\n",
    "    words=word_tokenize(text)\n",
    "    pos_tagged_words=nltk.pos_tag(words)\n",
    "    lemmatizer=WordNetLemmatizer()\n",
    "    lemmatized_words=[lemmatizer.lemmatize(word,pos[0].lower())if pos[0].lower() in ['a','n','v'] else word for word,pos in pos_tagged_words]\n",
    "print(perform_morphology(text))"
   ]
  },
  {
   "cell_type": "code",
   "execution_count": null,
   "id": "846a60cb",
   "metadata": {},
   "outputs": [],
   "source": []
  }
 ],
 "metadata": {
  "kernelspec": {
   "display_name": "Python 3 (ipykernel)",
   "language": "python",
   "name": "python3"
  },
  "language_info": {
   "codemirror_mode": {
    "name": "ipython",
    "version": 3
   },
   "file_extension": ".py",
   "mimetype": "text/x-python",
   "name": "python",
   "nbconvert_exporter": "python",
   "pygments_lexer": "ipython3",
   "version": "3.9.12"
  }
 },
 "nbformat": 4,
 "nbformat_minor": 5
}
